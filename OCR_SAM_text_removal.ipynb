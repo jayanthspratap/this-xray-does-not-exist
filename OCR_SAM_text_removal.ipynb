{
 "cells": [
  {
   "cell_type": "markdown",
   "metadata": {
    "id": "lfpFKzu_O4t9"
   },
   "source": [
    "# Installation"
   ]
  },
  {
   "cell_type": "code",
   "execution_count": null,
   "metadata": {
    "colab": {
     "base_uri": "https://localhost:8080/"
    },
    "id": "YhAC4Us-NGeC",
    "outputId": "8297914b-b398-48fa-d912-3efa51b5ccf5",
    "scrolled": true
   },
   "outputs": [],
   "source": [
    "!git clone https://github.com/yeungchenwa/OCR-SAM.git"
   ]
  },
  {
   "cell_type": "code",
   "execution_count": null,
   "metadata": {
    "colab": {
     "base_uri": "https://localhost:8080/"
    },
    "id": "wjYs9h9lNeIV",
    "outputId": "f1fe23a3-016a-43aa-d669-1c096d16dca9"
   },
   "outputs": [],
   "source": [
    "!pip -qq install torch==1.12.1+cu113 torchvision==0.13.1+cu113 --extra-index-url https://download.pytorch.org/whl/cu113\n",
    "\n",
    "!pip -qq install -U openmim\n",
    "!mim install mmengine\n",
    "!mim install mmocr\n",
    "\n",
    "# In Window, the following symbol ' should be changed to \"\n",
    "!mim install 'mmcv==2.0.0rc4'\n",
    "!mim install 'mmdet==3.0.0rc5'\n",
    "!mim install 'mmcls==1.0.0rc5'\n",
    "\n",
    "# Install sam\n",
    "!pip -qq install git+https://github.com/facebookresearch/segment-anything.git\n",
    "\n",
    "# Install required packages\n",
    "!pip -qq install -r ./OCR-SAM/requirements.txt\n",
    "\n",
    "# Install Gradio\n",
    "!pip -qq install gradio\n",
    "\n",
    "# Install the diffusers\n",
    "!pip -qq install diffusers\n",
    "\n",
    "# Install the pytorch_lightning for ldm\n",
    "!pip -qq install pytorch-lightning==2.0.1.post0"
   ]
  },
  {
   "cell_type": "markdown",
   "metadata": {
    "id": "RFCbHSgjQ88k"
   },
   "source": [
    "# Get model checkpoints"
   ]
  },
  {
   "cell_type": "code",
   "execution_count": null,
   "metadata": {
    "colab": {
     "base_uri": "https://localhost:8080/"
    },
    "id": "YUCDnB23R7iK",
    "outputId": "62213f71-eec5-45c3-e1e4-4ae9fe2620a0"
   },
   "outputs": [],
   "source": [
    "# download checkpoint for DBNet++\n",
    "\n",
    "!wget --load-cookies /tmp/cookies.txt \"https://docs.google.com/uc?export=download&confirm=$(wget --quiet --save-cookies /tmp/cookies.txt --keep-session-cookies --no-check-certificate 'https://docs.google.com/uc?export=download&id=1r3B1xhkyKYcQ9SR7o9hw9zhNJinRiHD-' -O- | sed -rn 's/.*confirm=([0-9A-Za-z_]+).*/\\1\\n/p')&id=1r3B1xhkyKYcQ9SR7o9hw9zhNJinRiHD-\" -O db_swin_mix_pretrain.pth && rm -rf /tmp/cookies.txt\n",
    "\n",
    "# configure directories\n",
    "!mkdir checkpoints\n",
    "!mkdir checkpoints/mmocr\n",
    "!mkdir checkpoints/sam\n",
    "!mkdir checkpoints/ldm\n",
    "!mv db_swin_mix_pretrain.pth checkpoints/mmocr\n",
    "\n",
    "# mmocr recognizer ckpt\n",
    "!wget -O checkpoints/mmocr/abinet_20e_st-an_mj_20221005_012617-ead8c139.pth https://download.openmmlab.com/mmocr/textrecog/abinet/abinet_20e_st-an_mj/abinet_20e_st-an_mj_20221005_012617-ead8c139.pth\n",
    "\n",
    "# sam ckpt, more details: https://github.com/facebookresearch/segment-anything#model-checkpoints\n",
    "!wget -O checkpoints/sam/sam_vit_h_4b8939.pth https://dl.fbaipublicfiles.com/segment_anything/sam_vit_h_4b8939.pth\n",
    "\n",
    "# ldm ckpt\n",
    "!wget -O checkpoints/ldm/last.ckpt https://heibox.uni-heidelberg.de/f/4d9ac7ea40c64582b7c9/?dl=1\n",
    "\n",
    "!mv checkpoints OCR-SAM"
   ]
  },
  {
   "cell_type": "markdown",
   "metadata": {
    "id": "ZcZNCvQ03fmh"
   },
   "source": [
    "# Install latent-diffusion module"
   ]
  },
  {
   "cell_type": "code",
   "execution_count": null,
   "metadata": {
    "id": "aHOSsQeD3eG6"
   },
   "outputs": [],
   "source": [
    "# install latent-diffusion module\n",
    "import sys\n",
    "sys.path.append('/content/OCR-SAM/latent_diffusion')"
   ]
  },
  {
   "cell_type": "code",
   "execution_count": null,
   "metadata": {
    "colab": {
     "base_uri": "https://localhost:8080/"
    },
    "id": "0FGW-Up1oXTF",
    "outputId": "925bc3b9-7f2d-4990-bad6-eef27c77ee05"
   },
   "outputs": [],
   "source": [
    "%%shell\n",
    "\n",
    "cd /content/OCR-SAM/latent_diffusion\n",
    "wget https://github.com/CompVis/latent-diffusion/raw/main/setup.py\n",
    "pip -qq install -e ."
   ]
  },
  {
   "cell_type": "code",
   "execution_count": null,
   "metadata": {
    "colab": {
     "base_uri": "https://localhost:8080/",
     "height": 145,
     "referenced_widgets": [
      "ac4824e2bbbc432793305579566952bf",
      "1496d12a33bc41a886470e46d519db0b",
      "c35df1e5c55d44bb91429dbfaf349404",
      "0ffe45f211cf46f1a2f9b1ad3519bc64",
      "6edce4336b804fb2bf73e5c65ac66109",
      "17b1d2e4f00843d6b69af6e169685405",
      "1137f6aaa30d43b5b23a71fbd5d39e53",
      "365a6e810a284ac48c80c23e1e21b541",
      "7d27f49b3ea842f8983fe7b84b36596d",
      "24d4ea75a6c94f2fa0dd409803c10cfd",
      "b88023b13d974107a01b792aabfc4edc",
      "4ad617fa284e47aba5d08dfa330ee8b0",
      "f589b9bf597947b6bce90c417e40cb19",
      "05934be38ffa49df9fb585905db0b3cd",
      "fdb567be67c94409abbc066a8f2c11e0",
      "b20fb72b0cdf48ab9913e74c688b49ff",
      "4cf6b9e5476342d9899232eccc58917b",
      "a462056808594fac9bbdce2ebdc88327",
      "7a90867561114bbdb371832e233536fb",
      "c01b5420a4e34537931b1733b70ae1aa",
      "bc69f52c77064aeb9e7df937d1c6a872",
      "6d918c1eaea74dfeb0db204d5cb6d91c",
      "b4377c3a8be44bde9851a8028b2d28a1",
      "4188d855343e41628d4fc1f2841f5aca",
      "824b393f1c7a42c49c7237331fa4953a",
      "ba6685ecd8ab4171a84d343a1dfbc555",
      "550452009fa74165a4491f33cd413e2e",
      "aa92ec4016154c70b5fb024d62e13b39",
      "83c147a1582a4a91973fe034424bfec9",
      "df8dd32ba4e744eba2b0d4332104dfd8",
      "7bf15d8df85848dc8a7073ff73d3181e",
      "38d97ea43cd74dc59e756687ff33009d"
     ]
    },
    "id": "N5oWKdOaC7aD",
    "outputId": "48d4332a-d7a7-4bf2-81a5-a907ea12e5e5"
   },
   "outputs": [],
   "source": [
    "# configure huggingface\n",
    "from huggingface_hub import notebook_login\n",
    "notebook_login()"
   ]
  },
  {
   "cell_type": "code",
   "execution_count": null,
   "metadata": {
    "colab": {
     "base_uri": "https://localhost:8080/",
     "height": 260
    },
    "id": "Dt3WHzf_j1-j",
    "outputId": "641c43df-60ee-4fcf-c40b-7c6a24809d45"
   },
   "outputs": [],
   "source": [
    "# configure wandb\n",
    "!pip -qq install wandb\n",
    "import wandb\n",
    "\n",
    "run = wandb.init(\n",
    "  project=\"text2image-fine-tune\",\n",
    "  notes=\"text removal\",\n",
    ")"
   ]
  },
  {
   "cell_type": "code",
   "execution_count": null,
   "metadata": {
    "colab": {
     "base_uri": "https://localhost:8080/"
    },
    "id": "n6P660MjbzST",
    "outputId": "7cb7c34f-cdcc-4cb7-b6ee-858df25511d6"
   },
   "outputs": [],
   "source": [
    "from google.colab import drive\n",
    "drive.mount('/content/drive')"
   ]
  },
  {
   "cell_type": "markdown",
   "metadata": {
    "id": "iTRPVo4PO740"
   },
   "source": [
    "# Run Text Removal on Synthetic Images"
   ]
  },
  {
   "cell_type": "markdown",
   "metadata": {
    "id": "4tgmd5N7Bknl"
   },
   "source": [
    "Python script"
   ]
  },
  {
   "cell_type": "code",
   "execution_count": null,
   "metadata": {
    "colab": {
     "base_uri": "https://localhost:8080/"
    },
    "id": "vsZkt6T56lh8",
    "outputId": "449cc2f5-341a-4f07-f19d-ab3f8d02ca4b",
    "scrolled": true
   },
   "outputs": [],
   "source": [
    "%%shell\n",
    "cd /content/OCR-SAM/\n",
    "for filepath in results_2024_02_17/*;\n",
    "do python mmocr_sam_erase.py --inputs /content/OCR-SAM/$filepath \\\n",
    "                    --outdir /content/drive/MyDrive/TextRemoval/text-removal-2024_02_17/${filepath} \\\n",
    "                    --device cuda --use_sam True --dilate_iteration 2 --diffusion_model stable-diffusion \\\n",
    "                    --sd_ckpt \"stabilityai/stable-diffusion-2-inpainting\"\n",
    "done"
   ]
  },
  {
   "cell_type": "code",
   "execution_count": null,
   "metadata": {
    "id": "FaZVtVzRRLfU"
   },
   "outputs": [],
   "source": [
    "import os\n",
    "import glob\n",
    "import shutil\n",
    "from tqdm import tqdm"
   ]
  },
  {
   "cell_type": "code",
   "execution_count": null,
   "metadata": {
    "id": "xdQ4gbN_hlem"
   },
   "outputs": [],
   "source": [
    "success = []\n",
    "\n",
    "# loop through output directory\n",
    "for imagefolder in tqdm(glob.glob('/content/drive/MyDrive/TextRemoval/text-removal-2024_02_17/*')):\n",
    "\n",
    "  # list all files\n",
    "  filenames = glob.glob(os.path.join(imagefolder, '*'))\n",
    "\n",
    "  # if erase output exists\n",
    "  if 'erase_output.jpg' in [os.path.basename(path) for path in filenames]:\n",
    "\n",
    "    # record successful text removal\n",
    "    success.append(os.path.basename(imagefolder))\n",
    "\n",
    "    # move erase output\n",
    "    shutil.copy(os.path.join(imagefolder, 'erase_output.jpg'), os.path.join('/content/drive/MyDrive/TextRemoval/clean_images', f'{os.path.basename(imagefolder)}.png'))\n",
    "\n",
    "# write successful filenames to .txt\n",
    "open('/content/drive/MyDrive/TextRemoval/successful_removal.txt', 'w').writelines([line + '\\n' for line in success])"
   ]
  },
  {
   "cell_type": "markdown",
   "metadata": {
    "id": "3L7wDe-mRpU_"
   },
   "source": [
    "Compile final directory of images (success + fail)"
   ]
  },
  {
   "cell_type": "code",
   "execution_count": null,
   "metadata": {
    "id": "t3mMDgMTQ8iG"
   },
   "outputs": [],
   "source": [
    "# loop through clean images directory\n",
    "clean_images = os.listdir('/content/drive/MyDrive/TextRemoval/clean_images/')\n",
    "\n",
    "for i in tqdm(range(0, 1000)):\n",
    "\n",
    "  # check if text removal was successful\n",
    "  if f'{i:04d}.png' in clean_images:\n",
    "\n",
    "    # move erase output\n",
    "    shutil.copy(os.path.join('/content/drive/MyDrive/TextRemoval/clean_images', f'{i:04d}.png'), os.path.join('/content/drive/MyDrive/TextRemoval/merged_output', f'{i:04d}.png'))\n",
    "\n",
    "  else:\n",
    "\n",
    "    # move original synth image\n",
    "    shutil.copy(os.path.join('/content/results_2023_06_28', f'synth_{i:04d}.png'), os.path.join('/content/drive/MyDrive/TextRemoval/merged_output', f'{i:04d}.png'))"
   ]
  },
  {
   "cell_type": "markdown",
   "metadata": {
    "id": "RX15jw6EWCRl"
   },
   "source": [
    "Write merged output directory to wandb run"
   ]
  },
  {
   "cell_type": "code",
   "execution_count": null,
   "metadata": {
    "id": "bcdYnUSnavw5"
   },
   "outputs": [],
   "source": [
    "table = wandb.Table(columns=[\"id\", \"image\"])\n",
    "[table.add_data(img.rstrip('.png'), wandb.Image(img)) for img in glob.glob('/content/drive/MyDrive/TextRemoval/merged_output/*')]\n",
    "wandb.log({\"images\" : table})"
   ]
  },
  {
   "cell_type": "code",
   "execution_count": null,
   "metadata": {
    "id": "7pzjuEntWE1C"
   },
   "outputs": [],
   "source": [
    "[wandb.log({\"images\" : wandb.Image(filepath)}) for filepath in glob.glob('/content/drive/MyDrive/TextRemoval/merged_output/*')]"
   ]
  },
  {
   "cell_type": "code",
   "execution_count": null,
   "metadata": {
    "id": "r-F05X5SYqeK"
   },
   "outputs": [],
   "source": [
    "!pip install pydicom\n",
    "from pydicom import dcmread"
   ]
  },
  {
   "cell_type": "code",
   "execution_count": null,
   "metadata": {
    "id": "fNgBIvjnYunG"
   },
   "outputs": [],
   "source": [
    "from PIL import Image\n",
    "import numpy as np\n",
    "\n",
    "ds = dcmread('/content/1-1.dcm')"
   ]
  },
  {
   "cell_type": "code",
   "execution_count": null,
   "metadata": {
    "id": "CF0-vNOMZT3p"
   },
   "outputs": [],
   "source": [
    "def dicom_to_gray(ds):\n",
    "\n",
    "    raw = ds.pixel_array\n",
    "    raw = raw.astype(float) # convert to float\n",
    "    raw = (np.maximum(raw,0) / raw.max()) * 255.0 # scale between 0-255\n",
    "    raw = np.uint8(raw) # convert to uint\n",
    "\n",
    "    return raw"
   ]
  },
  {
   "cell_type": "code",
   "execution_count": null,
   "metadata": {
    "id": "YWHE3gqDZiXd"
   },
   "outputs": [],
   "source": [
    "im = Image.fromarray(dicom_to_gray(ds))\n",
    "im.save('/content/test.png')"
   ]
  },
  {
   "cell_type": "code",
   "execution_count": null,
   "metadata": {
    "id": "3M5Kdwf-Z5aI"
   },
   "outputs": [],
   "source": [
    "%%shell\n",
    "cd /content/OCR-SAM/\n",
    "python mmocr_sam_erase.py --inputs /content/test.png \\\n",
    "      --outdir /content/output_without_sam \\\n",
    "      --device cuda --use_sam False --dilate_iteration 2 --diffusion_model stable-diffusion \\\n",
    "      --sd_ckpt \"stabilityai/stable-diffusion-2-inpainting\""
   ]
  },
  {
   "cell_type": "markdown",
   "metadata": {
    "id": "onEjZtqdBm_W"
   },
   "source": [
    "# Web app"
   ]
  },
  {
   "cell_type": "code",
   "execution_count": null,
   "metadata": {
    "id": "Oz2a0mF5Qj1e"
   },
   "outputs": [],
   "source": [
    "%%shell\n",
    "cd /content/OCR-SAM/\n",
    "python mmocr_sam_erase_app.py"
   ]
  },
  {
   "cell_type": "code",
   "execution_count": null,
   "metadata": {
    "id": "aIqKhfRlqj26"
   },
   "outputs": [],
   "source": [
    "# !python /content/OCR-SAM/mmocr_sam_inpainting_app.py"
   ]
  }
 ],
 "metadata": {
  "accelerator": "GPU",
  "colab": {
   "gpuType": "A100",
   "machine_shape": "hm",
   "provenance": []
  },
  "kernelspec": {
   "display_name": "Python 3 (ipykernel)",
   "language": "python",
   "name": "python3"
  },
  "language_info": {
   "codemirror_mode": {
    "name": "ipython",
    "version": 3
   },
   "file_extension": ".py",
   "mimetype": "text/x-python",
   "name": "python",
   "nbconvert_exporter": "python",
   "pygments_lexer": "ipython3",
   "version": "3.11.5"
  },
  "widgets": {
   "application/vnd.jupyter.widget-state+json": {
    "05934be38ffa49df9fb585905db0b3cd": {
     "model_module": "@jupyter-widgets/base",
     "model_module_version": "1.2.0",
     "model_name": "LayoutModel",
     "state": {
      "_model_module": "@jupyter-widgets/base",
      "_model_module_version": "1.2.0",
      "_model_name": "LayoutModel",
      "_view_count": null,
      "_view_module": "@jupyter-widgets/base",
      "_view_module_version": "1.2.0",
      "_view_name": "LayoutView",
      "align_content": null,
      "align_items": null,
      "align_self": null,
      "border": null,
      "bottom": null,
      "display": null,
      "flex": null,
      "flex_flow": null,
      "grid_area": null,
      "grid_auto_columns": null,
      "grid_auto_flow": null,
      "grid_auto_rows": null,
      "grid_column": null,
      "grid_gap": null,
      "grid_row": null,
      "grid_template_areas": null,
      "grid_template_columns": null,
      "grid_template_rows": null,
      "height": null,
      "justify_content": null,
      "justify_items": null,
      "left": null,
      "margin": null,
      "max_height": null,
      "max_width": null,
      "min_height": null,
      "min_width": null,
      "object_fit": null,
      "object_position": null,
      "order": null,
      "overflow": null,
      "overflow_x": null,
      "overflow_y": null,
      "padding": null,
      "right": null,
      "top": null,
      "visibility": null,
      "width": null
     }
    },
    "0ffe45f211cf46f1a2f9b1ad3519bc64": {
     "model_module": "@jupyter-widgets/controls",
     "model_module_version": "1.5.0",
     "model_name": "CheckboxModel",
     "state": {
      "_dom_classes": [],
      "_model_module": "@jupyter-widgets/controls",
      "_model_module_version": "1.5.0",
      "_model_name": "CheckboxModel",
      "_view_count": null,
      "_view_module": "@jupyter-widgets/controls",
      "_view_module_version": "1.5.0",
      "_view_name": "CheckboxView",
      "description": "Add token as git credential?",
      "description_tooltip": null,
      "disabled": false,
      "indent": true,
      "layout": "IPY_MODEL_4ad617fa284e47aba5d08dfa330ee8b0",
      "style": "IPY_MODEL_f589b9bf597947b6bce90c417e40cb19",
      "value": true
     }
    },
    "1137f6aaa30d43b5b23a71fbd5d39e53": {
     "model_module": "@jupyter-widgets/base",
     "model_module_version": "1.2.0",
     "model_name": "LayoutModel",
     "state": {
      "_model_module": "@jupyter-widgets/base",
      "_model_module_version": "1.2.0",
      "_model_name": "LayoutModel",
      "_view_count": null,
      "_view_module": "@jupyter-widgets/base",
      "_view_module_version": "1.2.0",
      "_view_name": "LayoutView",
      "align_content": null,
      "align_items": "center",
      "align_self": null,
      "border": null,
      "bottom": null,
      "display": "flex",
      "flex": null,
      "flex_flow": "column",
      "grid_area": null,
      "grid_auto_columns": null,
      "grid_auto_flow": null,
      "grid_auto_rows": null,
      "grid_column": null,
      "grid_gap": null,
      "grid_row": null,
      "grid_template_areas": null,
      "grid_template_columns": null,
      "grid_template_rows": null,
      "height": null,
      "justify_content": null,
      "justify_items": null,
      "left": null,
      "margin": null,
      "max_height": null,
      "max_width": null,
      "min_height": null,
      "min_width": null,
      "object_fit": null,
      "object_position": null,
      "order": null,
      "overflow": null,
      "overflow_x": null,
      "overflow_y": null,
      "padding": null,
      "right": null,
      "top": null,
      "visibility": null,
      "width": "50%"
     }
    },
    "1496d12a33bc41a886470e46d519db0b": {
     "model_module": "@jupyter-widgets/controls",
     "model_module_version": "1.5.0",
     "model_name": "HTMLModel",
     "state": {
      "_dom_classes": [],
      "_model_module": "@jupyter-widgets/controls",
      "_model_module_version": "1.5.0",
      "_model_name": "HTMLModel",
      "_view_count": null,
      "_view_module": "@jupyter-widgets/controls",
      "_view_module_version": "1.5.0",
      "_view_name": "HTMLView",
      "description": "",
      "description_tooltip": null,
      "layout": "IPY_MODEL_365a6e810a284ac48c80c23e1e21b541",
      "placeholder": "​",
      "style": "IPY_MODEL_7d27f49b3ea842f8983fe7b84b36596d",
      "value": "<center> <img\nsrc=https://huggingface.co/front/assets/huggingface_logo-noborder.svg\nalt='Hugging Face'> <br> Copy a token from <a\nhref=\"https://huggingface.co/settings/tokens\" target=\"_blank\">your Hugging Face\ntokens page</a> and paste it below. <br> Immediately click login after copying\nyour token or it might be stored in plain text in this notebook file. </center>"
     }
    },
    "17b1d2e4f00843d6b69af6e169685405": {
     "model_module": "@jupyter-widgets/controls",
     "model_module_version": "1.5.0",
     "model_name": "HTMLModel",
     "state": {
      "_dom_classes": [],
      "_model_module": "@jupyter-widgets/controls",
      "_model_module_version": "1.5.0",
      "_model_name": "HTMLModel",
      "_view_count": null,
      "_view_module": "@jupyter-widgets/controls",
      "_view_module_version": "1.5.0",
      "_view_name": "HTMLView",
      "description": "",
      "description_tooltip": null,
      "layout": "IPY_MODEL_b20fb72b0cdf48ab9913e74c688b49ff",
      "placeholder": "​",
      "style": "IPY_MODEL_4cf6b9e5476342d9899232eccc58917b",
      "value": "\n<b>Pro Tip:</b> If you don't already have one, you can create a dedicated\n'notebooks' token with 'write' access, that you can then easily reuse for all\nnotebooks. </center>"
     }
    },
    "24d4ea75a6c94f2fa0dd409803c10cfd": {
     "model_module": "@jupyter-widgets/base",
     "model_module_version": "1.2.0",
     "model_name": "LayoutModel",
     "state": {
      "_model_module": "@jupyter-widgets/base",
      "_model_module_version": "1.2.0",
      "_model_name": "LayoutModel",
      "_view_count": null,
      "_view_module": "@jupyter-widgets/base",
      "_view_module_version": "1.2.0",
      "_view_name": "LayoutView",
      "align_content": null,
      "align_items": null,
      "align_self": null,
      "border": null,
      "bottom": null,
      "display": null,
      "flex": null,
      "flex_flow": null,
      "grid_area": null,
      "grid_auto_columns": null,
      "grid_auto_flow": null,
      "grid_auto_rows": null,
      "grid_column": null,
      "grid_gap": null,
      "grid_row": null,
      "grid_template_areas": null,
      "grid_template_columns": null,
      "grid_template_rows": null,
      "height": null,
      "justify_content": null,
      "justify_items": null,
      "left": null,
      "margin": null,
      "max_height": null,
      "max_width": null,
      "min_height": null,
      "min_width": null,
      "object_fit": null,
      "object_position": null,
      "order": null,
      "overflow": null,
      "overflow_x": null,
      "overflow_y": null,
      "padding": null,
      "right": null,
      "top": null,
      "visibility": null,
      "width": null
     }
    },
    "365a6e810a284ac48c80c23e1e21b541": {
     "model_module": "@jupyter-widgets/base",
     "model_module_version": "1.2.0",
     "model_name": "LayoutModel",
     "state": {
      "_model_module": "@jupyter-widgets/base",
      "_model_module_version": "1.2.0",
      "_model_name": "LayoutModel",
      "_view_count": null,
      "_view_module": "@jupyter-widgets/base",
      "_view_module_version": "1.2.0",
      "_view_name": "LayoutView",
      "align_content": null,
      "align_items": null,
      "align_self": null,
      "border": null,
      "bottom": null,
      "display": null,
      "flex": null,
      "flex_flow": null,
      "grid_area": null,
      "grid_auto_columns": null,
      "grid_auto_flow": null,
      "grid_auto_rows": null,
      "grid_column": null,
      "grid_gap": null,
      "grid_row": null,
      "grid_template_areas": null,
      "grid_template_columns": null,
      "grid_template_rows": null,
      "height": null,
      "justify_content": null,
      "justify_items": null,
      "left": null,
      "margin": null,
      "max_height": null,
      "max_width": null,
      "min_height": null,
      "min_width": null,
      "object_fit": null,
      "object_position": null,
      "order": null,
      "overflow": null,
      "overflow_x": null,
      "overflow_y": null,
      "padding": null,
      "right": null,
      "top": null,
      "visibility": null,
      "width": null
     }
    },
    "38d97ea43cd74dc59e756687ff33009d": {
     "model_module": "@jupyter-widgets/controls",
     "model_module_version": "1.5.0",
     "model_name": "DescriptionStyleModel",
     "state": {
      "_model_module": "@jupyter-widgets/controls",
      "_model_module_version": "1.5.0",
      "_model_name": "DescriptionStyleModel",
      "_view_count": null,
      "_view_module": "@jupyter-widgets/base",
      "_view_module_version": "1.2.0",
      "_view_name": "StyleView",
      "description_width": ""
     }
    },
    "4188d855343e41628d4fc1f2841f5aca": {
     "model_module": "@jupyter-widgets/controls",
     "model_module_version": "1.5.0",
     "model_name": "LabelModel",
     "state": {
      "_dom_classes": [],
      "_model_module": "@jupyter-widgets/controls",
      "_model_module_version": "1.5.0",
      "_model_name": "LabelModel",
      "_view_count": null,
      "_view_module": "@jupyter-widgets/controls",
      "_view_module_version": "1.5.0",
      "_view_name": "LabelView",
      "description": "",
      "description_tooltip": null,
      "layout": "IPY_MODEL_7bf15d8df85848dc8a7073ff73d3181e",
      "placeholder": "​",
      "style": "IPY_MODEL_38d97ea43cd74dc59e756687ff33009d",
      "value": "Login successful"
     }
    },
    "4ad617fa284e47aba5d08dfa330ee8b0": {
     "model_module": "@jupyter-widgets/base",
     "model_module_version": "1.2.0",
     "model_name": "LayoutModel",
     "state": {
      "_model_module": "@jupyter-widgets/base",
      "_model_module_version": "1.2.0",
      "_model_name": "LayoutModel",
      "_view_count": null,
      "_view_module": "@jupyter-widgets/base",
      "_view_module_version": "1.2.0",
      "_view_name": "LayoutView",
      "align_content": null,
      "align_items": null,
      "align_self": null,
      "border": null,
      "bottom": null,
      "display": null,
      "flex": null,
      "flex_flow": null,
      "grid_area": null,
      "grid_auto_columns": null,
      "grid_auto_flow": null,
      "grid_auto_rows": null,
      "grid_column": null,
      "grid_gap": null,
      "grid_row": null,
      "grid_template_areas": null,
      "grid_template_columns": null,
      "grid_template_rows": null,
      "height": null,
      "justify_content": null,
      "justify_items": null,
      "left": null,
      "margin": null,
      "max_height": null,
      "max_width": null,
      "min_height": null,
      "min_width": null,
      "object_fit": null,
      "object_position": null,
      "order": null,
      "overflow": null,
      "overflow_x": null,
      "overflow_y": null,
      "padding": null,
      "right": null,
      "top": null,
      "visibility": null,
      "width": null
     }
    },
    "4cf6b9e5476342d9899232eccc58917b": {
     "model_module": "@jupyter-widgets/controls",
     "model_module_version": "1.5.0",
     "model_name": "DescriptionStyleModel",
     "state": {
      "_model_module": "@jupyter-widgets/controls",
      "_model_module_version": "1.5.0",
      "_model_name": "DescriptionStyleModel",
      "_view_count": null,
      "_view_module": "@jupyter-widgets/base",
      "_view_module_version": "1.2.0",
      "_view_name": "StyleView",
      "description_width": ""
     }
    },
    "550452009fa74165a4491f33cd413e2e": {
     "model_module": "@jupyter-widgets/base",
     "model_module_version": "1.2.0",
     "model_name": "LayoutModel",
     "state": {
      "_model_module": "@jupyter-widgets/base",
      "_model_module_version": "1.2.0",
      "_model_name": "LayoutModel",
      "_view_count": null,
      "_view_module": "@jupyter-widgets/base",
      "_view_module_version": "1.2.0",
      "_view_name": "LayoutView",
      "align_content": null,
      "align_items": null,
      "align_self": null,
      "border": null,
      "bottom": null,
      "display": null,
      "flex": null,
      "flex_flow": null,
      "grid_area": null,
      "grid_auto_columns": null,
      "grid_auto_flow": null,
      "grid_auto_rows": null,
      "grid_column": null,
      "grid_gap": null,
      "grid_row": null,
      "grid_template_areas": null,
      "grid_template_columns": null,
      "grid_template_rows": null,
      "height": null,
      "justify_content": null,
      "justify_items": null,
      "left": null,
      "margin": null,
      "max_height": null,
      "max_width": null,
      "min_height": null,
      "min_width": null,
      "object_fit": null,
      "object_position": null,
      "order": null,
      "overflow": null,
      "overflow_x": null,
      "overflow_y": null,
      "padding": null,
      "right": null,
      "top": null,
      "visibility": null,
      "width": null
     }
    },
    "6d918c1eaea74dfeb0db204d5cb6d91c": {
     "model_module": "@jupyter-widgets/controls",
     "model_module_version": "1.5.0",
     "model_name": "LabelModel",
     "state": {
      "_dom_classes": [],
      "_model_module": "@jupyter-widgets/controls",
      "_model_module_version": "1.5.0",
      "_model_name": "LabelModel",
      "_view_count": null,
      "_view_module": "@jupyter-widgets/controls",
      "_view_module_version": "1.5.0",
      "_view_name": "LabelView",
      "description": "",
      "description_tooltip": null,
      "layout": "IPY_MODEL_550452009fa74165a4491f33cd413e2e",
      "placeholder": "​",
      "style": "IPY_MODEL_aa92ec4016154c70b5fb024d62e13b39",
      "value": "Your token has been saved in your configured git credential helpers (store)."
     }
    },
    "6edce4336b804fb2bf73e5c65ac66109": {
     "model_module": "@jupyter-widgets/controls",
     "model_module_version": "1.5.0",
     "model_name": "ButtonModel",
     "state": {
      "_dom_classes": [],
      "_model_module": "@jupyter-widgets/controls",
      "_model_module_version": "1.5.0",
      "_model_name": "ButtonModel",
      "_view_count": null,
      "_view_module": "@jupyter-widgets/controls",
      "_view_module_version": "1.5.0",
      "_view_name": "ButtonView",
      "button_style": "",
      "description": "Login",
      "disabled": false,
      "icon": "",
      "layout": "IPY_MODEL_05934be38ffa49df9fb585905db0b3cd",
      "style": "IPY_MODEL_fdb567be67c94409abbc066a8f2c11e0",
      "tooltip": ""
     }
    },
    "7a90867561114bbdb371832e233536fb": {
     "model_module": "@jupyter-widgets/base",
     "model_module_version": "1.2.0",
     "model_name": "LayoutModel",
     "state": {
      "_model_module": "@jupyter-widgets/base",
      "_model_module_version": "1.2.0",
      "_model_name": "LayoutModel",
      "_view_count": null,
      "_view_module": "@jupyter-widgets/base",
      "_view_module_version": "1.2.0",
      "_view_name": "LayoutView",
      "align_content": null,
      "align_items": null,
      "align_self": null,
      "border": null,
      "bottom": null,
      "display": null,
      "flex": null,
      "flex_flow": null,
      "grid_area": null,
      "grid_auto_columns": null,
      "grid_auto_flow": null,
      "grid_auto_rows": null,
      "grid_column": null,
      "grid_gap": null,
      "grid_row": null,
      "grid_template_areas": null,
      "grid_template_columns": null,
      "grid_template_rows": null,
      "height": null,
      "justify_content": null,
      "justify_items": null,
      "left": null,
      "margin": null,
      "max_height": null,
      "max_width": null,
      "min_height": null,
      "min_width": null,
      "object_fit": null,
      "object_position": null,
      "order": null,
      "overflow": null,
      "overflow_x": null,
      "overflow_y": null,
      "padding": null,
      "right": null,
      "top": null,
      "visibility": null,
      "width": null
     }
    },
    "7bf15d8df85848dc8a7073ff73d3181e": {
     "model_module": "@jupyter-widgets/base",
     "model_module_version": "1.2.0",
     "model_name": "LayoutModel",
     "state": {
      "_model_module": "@jupyter-widgets/base",
      "_model_module_version": "1.2.0",
      "_model_name": "LayoutModel",
      "_view_count": null,
      "_view_module": "@jupyter-widgets/base",
      "_view_module_version": "1.2.0",
      "_view_name": "LayoutView",
      "align_content": null,
      "align_items": null,
      "align_self": null,
      "border": null,
      "bottom": null,
      "display": null,
      "flex": null,
      "flex_flow": null,
      "grid_area": null,
      "grid_auto_columns": null,
      "grid_auto_flow": null,
      "grid_auto_rows": null,
      "grid_column": null,
      "grid_gap": null,
      "grid_row": null,
      "grid_template_areas": null,
      "grid_template_columns": null,
      "grid_template_rows": null,
      "height": null,
      "justify_content": null,
      "justify_items": null,
      "left": null,
      "margin": null,
      "max_height": null,
      "max_width": null,
      "min_height": null,
      "min_width": null,
      "object_fit": null,
      "object_position": null,
      "order": null,
      "overflow": null,
      "overflow_x": null,
      "overflow_y": null,
      "padding": null,
      "right": null,
      "top": null,
      "visibility": null,
      "width": null
     }
    },
    "7d27f49b3ea842f8983fe7b84b36596d": {
     "model_module": "@jupyter-widgets/controls",
     "model_module_version": "1.5.0",
     "model_name": "DescriptionStyleModel",
     "state": {
      "_model_module": "@jupyter-widgets/controls",
      "_model_module_version": "1.5.0",
      "_model_name": "DescriptionStyleModel",
      "_view_count": null,
      "_view_module": "@jupyter-widgets/base",
      "_view_module_version": "1.2.0",
      "_view_name": "StyleView",
      "description_width": ""
     }
    },
    "824b393f1c7a42c49c7237331fa4953a": {
     "model_module": "@jupyter-widgets/base",
     "model_module_version": "1.2.0",
     "model_name": "LayoutModel",
     "state": {
      "_model_module": "@jupyter-widgets/base",
      "_model_module_version": "1.2.0",
      "_model_name": "LayoutModel",
      "_view_count": null,
      "_view_module": "@jupyter-widgets/base",
      "_view_module_version": "1.2.0",
      "_view_name": "LayoutView",
      "align_content": null,
      "align_items": null,
      "align_self": null,
      "border": null,
      "bottom": null,
      "display": null,
      "flex": null,
      "flex_flow": null,
      "grid_area": null,
      "grid_auto_columns": null,
      "grid_auto_flow": null,
      "grid_auto_rows": null,
      "grid_column": null,
      "grid_gap": null,
      "grid_row": null,
      "grid_template_areas": null,
      "grid_template_columns": null,
      "grid_template_rows": null,
      "height": null,
      "justify_content": null,
      "justify_items": null,
      "left": null,
      "margin": null,
      "max_height": null,
      "max_width": null,
      "min_height": null,
      "min_width": null,
      "object_fit": null,
      "object_position": null,
      "order": null,
      "overflow": null,
      "overflow_x": null,
      "overflow_y": null,
      "padding": null,
      "right": null,
      "top": null,
      "visibility": null,
      "width": null
     }
    },
    "83c147a1582a4a91973fe034424bfec9": {
     "model_module": "@jupyter-widgets/base",
     "model_module_version": "1.2.0",
     "model_name": "LayoutModel",
     "state": {
      "_model_module": "@jupyter-widgets/base",
      "_model_module_version": "1.2.0",
      "_model_name": "LayoutModel",
      "_view_count": null,
      "_view_module": "@jupyter-widgets/base",
      "_view_module_version": "1.2.0",
      "_view_name": "LayoutView",
      "align_content": null,
      "align_items": null,
      "align_self": null,
      "border": null,
      "bottom": null,
      "display": null,
      "flex": null,
      "flex_flow": null,
      "grid_area": null,
      "grid_auto_columns": null,
      "grid_auto_flow": null,
      "grid_auto_rows": null,
      "grid_column": null,
      "grid_gap": null,
      "grid_row": null,
      "grid_template_areas": null,
      "grid_template_columns": null,
      "grid_template_rows": null,
      "height": null,
      "justify_content": null,
      "justify_items": null,
      "left": null,
      "margin": null,
      "max_height": null,
      "max_width": null,
      "min_height": null,
      "min_width": null,
      "object_fit": null,
      "object_position": null,
      "order": null,
      "overflow": null,
      "overflow_x": null,
      "overflow_y": null,
      "padding": null,
      "right": null,
      "top": null,
      "visibility": null,
      "width": null
     }
    },
    "a462056808594fac9bbdce2ebdc88327": {
     "model_module": "@jupyter-widgets/controls",
     "model_module_version": "1.5.0",
     "model_name": "LabelModel",
     "state": {
      "_dom_classes": [],
      "_model_module": "@jupyter-widgets/controls",
      "_model_module_version": "1.5.0",
      "_model_name": "LabelModel",
      "_view_count": null,
      "_view_module": "@jupyter-widgets/controls",
      "_view_module_version": "1.5.0",
      "_view_name": "LabelView",
      "description": "",
      "description_tooltip": null,
      "layout": "IPY_MODEL_7a90867561114bbdb371832e233536fb",
      "placeholder": "​",
      "style": "IPY_MODEL_c01b5420a4e34537931b1733b70ae1aa",
      "value": "Connecting..."
     }
    },
    "aa92ec4016154c70b5fb024d62e13b39": {
     "model_module": "@jupyter-widgets/controls",
     "model_module_version": "1.5.0",
     "model_name": "DescriptionStyleModel",
     "state": {
      "_model_module": "@jupyter-widgets/controls",
      "_model_module_version": "1.5.0",
      "_model_name": "DescriptionStyleModel",
      "_view_count": null,
      "_view_module": "@jupyter-widgets/base",
      "_view_module_version": "1.2.0",
      "_view_name": "StyleView",
      "description_width": ""
     }
    },
    "ac4824e2bbbc432793305579566952bf": {
     "model_module": "@jupyter-widgets/controls",
     "model_module_version": "1.5.0",
     "model_name": "VBoxModel",
     "state": {
      "_dom_classes": [],
      "_model_module": "@jupyter-widgets/controls",
      "_model_module_version": "1.5.0",
      "_model_name": "VBoxModel",
      "_view_count": null,
      "_view_module": "@jupyter-widgets/controls",
      "_view_module_version": "1.5.0",
      "_view_name": "VBoxView",
      "box_style": "",
      "children": [
       "IPY_MODEL_bc69f52c77064aeb9e7df937d1c6a872",
       "IPY_MODEL_6d918c1eaea74dfeb0db204d5cb6d91c",
       "IPY_MODEL_b4377c3a8be44bde9851a8028b2d28a1",
       "IPY_MODEL_4188d855343e41628d4fc1f2841f5aca"
      ],
      "layout": "IPY_MODEL_1137f6aaa30d43b5b23a71fbd5d39e53"
     }
    },
    "b20fb72b0cdf48ab9913e74c688b49ff": {
     "model_module": "@jupyter-widgets/base",
     "model_module_version": "1.2.0",
     "model_name": "LayoutModel",
     "state": {
      "_model_module": "@jupyter-widgets/base",
      "_model_module_version": "1.2.0",
      "_model_name": "LayoutModel",
      "_view_count": null,
      "_view_module": "@jupyter-widgets/base",
      "_view_module_version": "1.2.0",
      "_view_name": "LayoutView",
      "align_content": null,
      "align_items": null,
      "align_self": null,
      "border": null,
      "bottom": null,
      "display": null,
      "flex": null,
      "flex_flow": null,
      "grid_area": null,
      "grid_auto_columns": null,
      "grid_auto_flow": null,
      "grid_auto_rows": null,
      "grid_column": null,
      "grid_gap": null,
      "grid_row": null,
      "grid_template_areas": null,
      "grid_template_columns": null,
      "grid_template_rows": null,
      "height": null,
      "justify_content": null,
      "justify_items": null,
      "left": null,
      "margin": null,
      "max_height": null,
      "max_width": null,
      "min_height": null,
      "min_width": null,
      "object_fit": null,
      "object_position": null,
      "order": null,
      "overflow": null,
      "overflow_x": null,
      "overflow_y": null,
      "padding": null,
      "right": null,
      "top": null,
      "visibility": null,
      "width": null
     }
    },
    "b4377c3a8be44bde9851a8028b2d28a1": {
     "model_module": "@jupyter-widgets/controls",
     "model_module_version": "1.5.0",
     "model_name": "LabelModel",
     "state": {
      "_dom_classes": [],
      "_model_module": "@jupyter-widgets/controls",
      "_model_module_version": "1.5.0",
      "_model_name": "LabelModel",
      "_view_count": null,
      "_view_module": "@jupyter-widgets/controls",
      "_view_module_version": "1.5.0",
      "_view_name": "LabelView",
      "description": "",
      "description_tooltip": null,
      "layout": "IPY_MODEL_83c147a1582a4a91973fe034424bfec9",
      "placeholder": "​",
      "style": "IPY_MODEL_df8dd32ba4e744eba2b0d4332104dfd8",
      "value": "Your token has been saved to /root/.cache/huggingface/token"
     }
    },
    "b88023b13d974107a01b792aabfc4edc": {
     "model_module": "@jupyter-widgets/controls",
     "model_module_version": "1.5.0",
     "model_name": "DescriptionStyleModel",
     "state": {
      "_model_module": "@jupyter-widgets/controls",
      "_model_module_version": "1.5.0",
      "_model_name": "DescriptionStyleModel",
      "_view_count": null,
      "_view_module": "@jupyter-widgets/base",
      "_view_module_version": "1.2.0",
      "_view_name": "StyleView",
      "description_width": ""
     }
    },
    "ba6685ecd8ab4171a84d343a1dfbc555": {
     "model_module": "@jupyter-widgets/controls",
     "model_module_version": "1.5.0",
     "model_name": "DescriptionStyleModel",
     "state": {
      "_model_module": "@jupyter-widgets/controls",
      "_model_module_version": "1.5.0",
      "_model_name": "DescriptionStyleModel",
      "_view_count": null,
      "_view_module": "@jupyter-widgets/base",
      "_view_module_version": "1.2.0",
      "_view_name": "StyleView",
      "description_width": ""
     }
    },
    "bc69f52c77064aeb9e7df937d1c6a872": {
     "model_module": "@jupyter-widgets/controls",
     "model_module_version": "1.5.0",
     "model_name": "LabelModel",
     "state": {
      "_dom_classes": [],
      "_model_module": "@jupyter-widgets/controls",
      "_model_module_version": "1.5.0",
      "_model_name": "LabelModel",
      "_view_count": null,
      "_view_module": "@jupyter-widgets/controls",
      "_view_module_version": "1.5.0",
      "_view_name": "LabelView",
      "description": "",
      "description_tooltip": null,
      "layout": "IPY_MODEL_824b393f1c7a42c49c7237331fa4953a",
      "placeholder": "​",
      "style": "IPY_MODEL_ba6685ecd8ab4171a84d343a1dfbc555",
      "value": "Token is valid (permission: write)."
     }
    },
    "c01b5420a4e34537931b1733b70ae1aa": {
     "model_module": "@jupyter-widgets/controls",
     "model_module_version": "1.5.0",
     "model_name": "DescriptionStyleModel",
     "state": {
      "_model_module": "@jupyter-widgets/controls",
      "_model_module_version": "1.5.0",
      "_model_name": "DescriptionStyleModel",
      "_view_count": null,
      "_view_module": "@jupyter-widgets/base",
      "_view_module_version": "1.2.0",
      "_view_name": "StyleView",
      "description_width": ""
     }
    },
    "c35df1e5c55d44bb91429dbfaf349404": {
     "model_module": "@jupyter-widgets/controls",
     "model_module_version": "1.5.0",
     "model_name": "PasswordModel",
     "state": {
      "_dom_classes": [],
      "_model_module": "@jupyter-widgets/controls",
      "_model_module_version": "1.5.0",
      "_model_name": "PasswordModel",
      "_view_count": null,
      "_view_module": "@jupyter-widgets/controls",
      "_view_module_version": "1.5.0",
      "_view_name": "PasswordView",
      "continuous_update": true,
      "description": "Token:",
      "description_tooltip": null,
      "disabled": false,
      "layout": "IPY_MODEL_24d4ea75a6c94f2fa0dd409803c10cfd",
      "placeholder": "​",
      "style": "IPY_MODEL_b88023b13d974107a01b792aabfc4edc",
      "value": ""
     }
    },
    "df8dd32ba4e744eba2b0d4332104dfd8": {
     "model_module": "@jupyter-widgets/controls",
     "model_module_version": "1.5.0",
     "model_name": "DescriptionStyleModel",
     "state": {
      "_model_module": "@jupyter-widgets/controls",
      "_model_module_version": "1.5.0",
      "_model_name": "DescriptionStyleModel",
      "_view_count": null,
      "_view_module": "@jupyter-widgets/base",
      "_view_module_version": "1.2.0",
      "_view_name": "StyleView",
      "description_width": ""
     }
    },
    "f589b9bf597947b6bce90c417e40cb19": {
     "model_module": "@jupyter-widgets/controls",
     "model_module_version": "1.5.0",
     "model_name": "DescriptionStyleModel",
     "state": {
      "_model_module": "@jupyter-widgets/controls",
      "_model_module_version": "1.5.0",
      "_model_name": "DescriptionStyleModel",
      "_view_count": null,
      "_view_module": "@jupyter-widgets/base",
      "_view_module_version": "1.2.0",
      "_view_name": "StyleView",
      "description_width": ""
     }
    },
    "fdb567be67c94409abbc066a8f2c11e0": {
     "model_module": "@jupyter-widgets/controls",
     "model_module_version": "1.5.0",
     "model_name": "ButtonStyleModel",
     "state": {
      "_model_module": "@jupyter-widgets/controls",
      "_model_module_version": "1.5.0",
      "_model_name": "ButtonStyleModel",
      "_view_count": null,
      "_view_module": "@jupyter-widgets/base",
      "_view_module_version": "1.2.0",
      "_view_name": "StyleView",
      "button_color": null,
      "font_weight": ""
     }
    }
   }
  }
 },
 "nbformat": 4,
 "nbformat_minor": 4
}
